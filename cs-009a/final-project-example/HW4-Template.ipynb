{
 "cells": [
  {
   "cell_type": "markdown",
   "id": "c57d0759-e3ce-46b8-9190-18c752f771bd",
   "metadata": {},
   "source": [
    "# HW 4\n",
    "### Member 1 : Name and NetID\n",
    "### Member 2 : Name and NetID "
   ]
  },
  {
   "cell_type": "markdown",
   "id": "db36cd4d-226d-4169-ba27-689fc904aa4d",
   "metadata": {},
   "source": [
    "### Describe the Data set :\n",
    "#### link to dataset:\n",
    "\n",
    "This data.csv provides data about ...\n",
    "there are multiple columns such as .... that ...\n"
   ]
  },
  {
   "cell_type": "code",
   "execution_count": 4,
   "id": "817e2bf3-95a0-4979-9d67-46b6957eaab5",
   "metadata": {},
   "outputs": [],
   "source": [
    "#code to import packages, open and load the dataset\n",
    "#data cleaning (if required)"
   ]
  },
  {
   "cell_type": "markdown",
   "id": "ce4472b2-424d-4c5b-aa2a-b14facbcb9f7",
   "metadata": {
    "tags": []
   },
   "source": [
    "## Question 1 : What is the Average of ....?"
   ]
  },
  {
   "cell_type": "code",
   "execution_count": null,
   "id": "4abebff1-35ac-471f-8ea0-60a45b851469",
   "metadata": {
    "tags": []
   },
   "outputs": [],
   "source": [
    "#code to answer Q1 :"
   ]
  },
  {
   "cell_type": "markdown",
   "id": "f36303e1-669b-44fe-82c2-9c0ce12ede61",
   "metadata": {
    "tags": []
   },
   "source": [
    "#### Explain the findings with the previous code:"
   ]
  },
  {
   "cell_type": "markdown",
   "id": "8d927577-d010-438c-89b5-9a4fa8fc4fe4",
   "metadata": {
    "tags": []
   },
   "source": [
    "## Question 2 : What is ....?"
   ]
  },
  {
   "cell_type": "code",
   "execution_count": null,
   "id": "d5023414-c0a6-4493-b78a-ff127aad3e84",
   "metadata": {
    "tags": []
   },
   "outputs": [],
   "source": [
    "#code to answer Q2 :"
   ]
  },
  {
   "cell_type": "markdown",
   "id": "93775aa3-196c-455d-b004-fda67196f954",
   "metadata": {
    "tags": []
   },
   "source": [
    "#### Explain the findings with the previous code:"
   ]
  },
  {
   "cell_type": "markdown",
   "id": "66cfac3a-4e55-46c3-80f7-c899a863f8f4",
   "metadata": {
    "tags": []
   },
   "source": [
    "## Question 3 : What is ....?"
   ]
  },
  {
   "cell_type": "code",
   "execution_count": 3,
   "id": "585882c1-1d96-478a-8226-74020b4b6bf5",
   "metadata": {
    "tags": []
   },
   "outputs": [],
   "source": [
    "#code to answer Q3 :"
   ]
  },
  {
   "cell_type": "markdown",
   "id": "5ec3d385-249f-4ae3-be6d-7ad8b82fb2d7",
   "metadata": {
    "tags": []
   },
   "source": [
    "#### Explain the findings with the previous code:"
   ]
  },
  {
   "cell_type": "markdown",
   "id": "8d44c171-0a47-4f16-bfd5-d99b81efa9e8",
   "metadata": {
    "tags": []
   },
   "source": [
    "## Question 4 : What is ....? (Plot)"
   ]
  },
  {
   "cell_type": "code",
   "execution_count": null,
   "id": "31143682-8cbc-420c-8008-442428cec778",
   "metadata": {
    "tags": []
   },
   "outputs": [],
   "source": [
    "#code to answer Q2 :\n",
    "#cod for the plot"
   ]
  },
  {
   "cell_type": "markdown",
   "id": "d5d66865-96d2-4d3b-86a1-5012421f5cee",
   "metadata": {
    "tags": []
   },
   "source": [
    "#### Explain the findings with the previous code and the plot:"
   ]
  }
 ],
 "metadata": {
  "kernelspec": {
   "display_name": "Python 3 (ipykernel)",
   "language": "python",
   "name": "python3"
  },
  "language_info": {
   "codemirror_mode": {
    "name": "ipython",
    "version": 3
   },
   "file_extension": ".py",
   "mimetype": "text/x-python",
   "name": "python",
   "nbconvert_exporter": "python",
   "pygments_lexer": "ipython3",
   "version": "3.8.15"
  }
 },
 "nbformat": 4,
 "nbformat_minor": 5
}
