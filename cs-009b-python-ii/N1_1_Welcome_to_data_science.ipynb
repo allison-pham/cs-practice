{
  "nbformat": 4,
  "nbformat_minor": 0,
  "metadata": {
    "colab": {
      "provenance": []
    },
    "kernelspec": {
      "name": "python3",
      "display_name": "Python 3"
    },
    "language_info": {
      "name": "python"
    }
  },
  "cells": [
    {
      "cell_type": "markdown",
      "source": [
        "\n",
        "# What is Data Science?\n",
        "\n",
        "Data Science is an interdisciplinary field that aims to extract knowledge and insights from big and messy data. The field encompasses Computer Science, Statistics and a domain field.\n",
        "\n"
      ],
      "metadata": {
        "id": "Z5gGZgpvtAVi"
      }
    },
    {
      "cell_type": "markdown",
      "source": [
        "![alternatvie text](https://live.staticflickr.com/65535/53229478936_4fd464b063_h.jpg)"
      ],
      "metadata": {
        "id": "r67i_QcLuvR7"
      }
    },
    {
      "cell_type": "markdown",
      "source": [
        "In order to uncover useful intelligence for their organizations, data scientists must master the full spectrum of the data science life cycle and possess a level of flexibility and understanding to maximize returns at each phase of the process.\n",
        "\n"
      ],
      "metadata": {
        "id": "t_SZF43mvSla"
      }
    },
    {
      "cell_type": "markdown",
      "source": [
        "![alternatvie text](https://live.staticflickr.com/65535/53229979195_4acbf4ff2e_h.jpg)"
      ],
      "metadata": {
        "id": "Mst9-0NYuqZG"
      }
    },
    {
      "cell_type": "markdown",
      "source": [
        "The Data Science life cycle contains several phases. First data is gathered from various sources (either provided as CSV or JSON files, or gathered from an API). Data Scientists must then clean the dataset and then  visualize patterns and trends within the dataset. Next, the models are constructed to predict or forecast trends. Finally, knowledge is extracted to better our prediction models.\n",
        "\n",
        "We will be using the Pandas library to read-in, clean, visualize and analyze datasets. Pandas is a package that allows efficient manipulation of a dataset. Datasets are managed as a 'DataFrame' which are essentially spreadsheets where we can access a row and/or column. Pandas implements a number of powerful data operations to manage spreadsheets.\n",
        "\n",
        "\n",
        "\n",
        "First, we need to import pandas"
      ],
      "metadata": {
        "id": "Tjj5q_DOvXP2"
      }
    },
    {
      "cell_type": "code",
      "source": [
        "import pandas as pd"
      ],
      "metadata": {
        "id": "Qu6TykhluLSD"
      },
      "execution_count": 23,
      "outputs": []
    },
    {
      "cell_type": "markdown",
      "source": [
        "What does data look like? For most people, the first image that comes to mind is a spreadsheet, with numbers neatly arranged in a table of rows and columns. One goal of this book is to get you to think beyond tables of numbers---to recognize that the words in a book and the markers on a map are also data to be collected, processed, and analyzed. But a lot of data is still organized into tables, so it is important to know how to work with tabular data.\n",
        "\n",
        "Let's look at a tabular data set. Shown below are the first 5 rows of a data set about the passengers on the Titanic. This data set contains information about each passenger (e.g., name, sex, age), their journey (e.g., the fare they paid, their destination), and their ultimate fate (e.g., whether they survived or not, the lifeboat they were on).\n",
        "\n",
        "In a tabular data set, each row represents a distinct observation and each column a distinct variable. Each observation is an entity being measured, and variables are the attributes we measure. In the Titanic data set above, each row represents a passenger on the Titanic. For each passenger, 14 variables have been recorded, including pclass (their ticket class: 1, 2, or 3) and boat (which lifeboat they were on, if they survived).\n",
        "\n",
        "In Python, the pandas library provides a convenient data structure for storing tabular data, called the DataFrame."
      ],
      "metadata": {
        "id": "GsZsibnLvcyr"
      }
    },
    {
      "cell_type": "code",
      "source": [
        "\n",
        "titanic = pd.read_csv('Titanic.csv')"
      ],
      "metadata": {
        "id": "MB2tHrQPwaU0"
      },
      "execution_count": 24,
      "outputs": []
    },
    {
      "cell_type": "code",
      "source": [
        "titanic.head()"
      ],
      "metadata": {
        "colab": {
          "base_uri": "https://localhost:8080/",
          "height": 206
        },
        "id": "TH-TJQEDyzk9",
        "outputId": "c6da7486-489d-45c4-e445-8dd1553eed3c"
      },
      "execution_count": 25,
      "outputs": [
        {
          "output_type": "execute_result",
          "data": {
            "text/plain": [
              "   PassengerId  Survived  Pclass  \\\n",
              "0            1         0       3   \n",
              "1            2         1       1   \n",
              "2            3         1       3   \n",
              "3            4         1       1   \n",
              "4            5         0       3   \n",
              "\n",
              "                                                Name     Sex   Age  SibSp  \\\n",
              "0                            Braund, Mr. Owen Harris    male  22.0      1   \n",
              "1  Cumings, Mrs. John Bradley (Florence Briggs Th...  female  38.0      1   \n",
              "2                             Heikkinen, Miss. Laina  female  26.0      0   \n",
              "3       Futrelle, Mrs. Jacques Heath (Lily May Peel)  female  35.0      1   \n",
              "4                           Allen, Mr. William Henry    male  35.0      0   \n",
              "\n",
              "   Parch            Ticket     Fare Cabin Embarked  \n",
              "0      0         A/5 21171   7.2500   NaN        S  \n",
              "1      0          PC 17599  71.2833   C85        C  \n",
              "2      0  STON/O2. 3101282   7.9250   NaN        S  \n",
              "3      0            113803  53.1000  C123        S  \n",
              "4      0            373450   8.0500   NaN        S  "
            ],
            "text/html": [
              "\n",
              "  <div id=\"df-30166c19-273c-4a4e-b9c2-e9f5218ddd99\" class=\"colab-df-container\">\n",
              "    <div>\n",
              "<style scoped>\n",
              "    .dataframe tbody tr th:only-of-type {\n",
              "        vertical-align: middle;\n",
              "    }\n",
              "\n",
              "    .dataframe tbody tr th {\n",
              "        vertical-align: top;\n",
              "    }\n",
              "\n",
              "    .dataframe thead th {\n",
              "        text-align: right;\n",
              "    }\n",
              "</style>\n",
              "<table border=\"1\" class=\"dataframe\">\n",
              "  <thead>\n",
              "    <tr style=\"text-align: right;\">\n",
              "      <th></th>\n",
              "      <th>PassengerId</th>\n",
              "      <th>Survived</th>\n",
              "      <th>Pclass</th>\n",
              "      <th>Name</th>\n",
              "      <th>Sex</th>\n",
              "      <th>Age</th>\n",
              "      <th>SibSp</th>\n",
              "      <th>Parch</th>\n",
              "      <th>Ticket</th>\n",
              "      <th>Fare</th>\n",
              "      <th>Cabin</th>\n",
              "      <th>Embarked</th>\n",
              "    </tr>\n",
              "  </thead>\n",
              "  <tbody>\n",
              "    <tr>\n",
              "      <th>0</th>\n",
              "      <td>1</td>\n",
              "      <td>0</td>\n",
              "      <td>3</td>\n",
              "      <td>Braund, Mr. Owen Harris</td>\n",
              "      <td>male</td>\n",
              "      <td>22.0</td>\n",
              "      <td>1</td>\n",
              "      <td>0</td>\n",
              "      <td>A/5 21171</td>\n",
              "      <td>7.2500</td>\n",
              "      <td>NaN</td>\n",
              "      <td>S</td>\n",
              "    </tr>\n",
              "    <tr>\n",
              "      <th>1</th>\n",
              "      <td>2</td>\n",
              "      <td>1</td>\n",
              "      <td>1</td>\n",
              "      <td>Cumings, Mrs. John Bradley (Florence Briggs Th...</td>\n",
              "      <td>female</td>\n",
              "      <td>38.0</td>\n",
              "      <td>1</td>\n",
              "      <td>0</td>\n",
              "      <td>PC 17599</td>\n",
              "      <td>71.2833</td>\n",
              "      <td>C85</td>\n",
              "      <td>C</td>\n",
              "    </tr>\n",
              "    <tr>\n",
              "      <th>2</th>\n",
              "      <td>3</td>\n",
              "      <td>1</td>\n",
              "      <td>3</td>\n",
              "      <td>Heikkinen, Miss. Laina</td>\n",
              "      <td>female</td>\n",
              "      <td>26.0</td>\n",
              "      <td>0</td>\n",
              "      <td>0</td>\n",
              "      <td>STON/O2. 3101282</td>\n",
              "      <td>7.9250</td>\n",
              "      <td>NaN</td>\n",
              "      <td>S</td>\n",
              "    </tr>\n",
              "    <tr>\n",
              "      <th>3</th>\n",
              "      <td>4</td>\n",
              "      <td>1</td>\n",
              "      <td>1</td>\n",
              "      <td>Futrelle, Mrs. Jacques Heath (Lily May Peel)</td>\n",
              "      <td>female</td>\n",
              "      <td>35.0</td>\n",
              "      <td>1</td>\n",
              "      <td>0</td>\n",
              "      <td>113803</td>\n",
              "      <td>53.1000</td>\n",
              "      <td>C123</td>\n",
              "      <td>S</td>\n",
              "    </tr>\n",
              "    <tr>\n",
              "      <th>4</th>\n",
              "      <td>5</td>\n",
              "      <td>0</td>\n",
              "      <td>3</td>\n",
              "      <td>Allen, Mr. William Henry</td>\n",
              "      <td>male</td>\n",
              "      <td>35.0</td>\n",
              "      <td>0</td>\n",
              "      <td>0</td>\n",
              "      <td>373450</td>\n",
              "      <td>8.0500</td>\n",
              "      <td>NaN</td>\n",
              "      <td>S</td>\n",
              "    </tr>\n",
              "  </tbody>\n",
              "</table>\n",
              "</div>\n",
              "    <div class=\"colab-df-buttons\">\n",
              "\n",
              "  <div class=\"colab-df-container\">\n",
              "    <button class=\"colab-df-convert\" onclick=\"convertToInteractive('df-30166c19-273c-4a4e-b9c2-e9f5218ddd99')\"\n",
              "            title=\"Convert this dataframe to an interactive table.\"\n",
              "            style=\"display:none;\">\n",
              "\n",
              "  <svg xmlns=\"http://www.w3.org/2000/svg\" height=\"24px\" viewBox=\"0 -960 960 960\">\n",
              "    <path d=\"M120-120v-720h720v720H120Zm60-500h600v-160H180v160Zm220 220h160v-160H400v160Zm0 220h160v-160H400v160ZM180-400h160v-160H180v160Zm440 0h160v-160H620v160ZM180-180h160v-160H180v160Zm440 0h160v-160H620v160Z\"/>\n",
              "  </svg>\n",
              "    </button>\n",
              "\n",
              "  <style>\n",
              "    .colab-df-container {\n",
              "      display:flex;\n",
              "      gap: 12px;\n",
              "    }\n",
              "\n",
              "    .colab-df-convert {\n",
              "      background-color: #E8F0FE;\n",
              "      border: none;\n",
              "      border-radius: 50%;\n",
              "      cursor: pointer;\n",
              "      display: none;\n",
              "      fill: #1967D2;\n",
              "      height: 32px;\n",
              "      padding: 0 0 0 0;\n",
              "      width: 32px;\n",
              "    }\n",
              "\n",
              "    .colab-df-convert:hover {\n",
              "      background-color: #E2EBFA;\n",
              "      box-shadow: 0px 1px 2px rgba(60, 64, 67, 0.3), 0px 1px 3px 1px rgba(60, 64, 67, 0.15);\n",
              "      fill: #174EA6;\n",
              "    }\n",
              "\n",
              "    .colab-df-buttons div {\n",
              "      margin-bottom: 4px;\n",
              "    }\n",
              "\n",
              "    [theme=dark] .colab-df-convert {\n",
              "      background-color: #3B4455;\n",
              "      fill: #D2E3FC;\n",
              "    }\n",
              "\n",
              "    [theme=dark] .colab-df-convert:hover {\n",
              "      background-color: #434B5C;\n",
              "      box-shadow: 0px 1px 3px 1px rgba(0, 0, 0, 0.15);\n",
              "      filter: drop-shadow(0px 1px 2px rgba(0, 0, 0, 0.3));\n",
              "      fill: #FFFFFF;\n",
              "    }\n",
              "  </style>\n",
              "\n",
              "    <script>\n",
              "      const buttonEl =\n",
              "        document.querySelector('#df-30166c19-273c-4a4e-b9c2-e9f5218ddd99 button.colab-df-convert');\n",
              "      buttonEl.style.display =\n",
              "        google.colab.kernel.accessAllowed ? 'block' : 'none';\n",
              "\n",
              "      async function convertToInteractive(key) {\n",
              "        const element = document.querySelector('#df-30166c19-273c-4a4e-b9c2-e9f5218ddd99');\n",
              "        const dataTable =\n",
              "          await google.colab.kernel.invokeFunction('convertToInteractive',\n",
              "                                                    [key], {});\n",
              "        if (!dataTable) return;\n",
              "\n",
              "        const docLinkHtml = 'Like what you see? Visit the ' +\n",
              "          '<a target=\"_blank\" href=https://colab.research.google.com/notebooks/data_table.ipynb>data table notebook</a>'\n",
              "          + ' to learn more about interactive tables.';\n",
              "        element.innerHTML = '';\n",
              "        dataTable['output_type'] = 'display_data';\n",
              "        await google.colab.output.renderOutput(dataTable, element);\n",
              "        const docLink = document.createElement('div');\n",
              "        docLink.innerHTML = docLinkHtml;\n",
              "        element.appendChild(docLink);\n",
              "      }\n",
              "    </script>\n",
              "  </div>\n",
              "\n",
              "\n",
              "<div id=\"df-7a8090ad-01e9-4909-8b7b-e54228bc5951\">\n",
              "  <button class=\"colab-df-quickchart\" onclick=\"quickchart('df-7a8090ad-01e9-4909-8b7b-e54228bc5951')\"\n",
              "            title=\"Suggest charts.\"\n",
              "            style=\"display:none;\">\n",
              "\n",
              "<svg xmlns=\"http://www.w3.org/2000/svg\" height=\"24px\"viewBox=\"0 0 24 24\"\n",
              "     width=\"24px\">\n",
              "    <g>\n",
              "        <path d=\"M19 3H5c-1.1 0-2 .9-2 2v14c0 1.1.9 2 2 2h14c1.1 0 2-.9 2-2V5c0-1.1-.9-2-2-2zM9 17H7v-7h2v7zm4 0h-2V7h2v10zm4 0h-2v-4h2v4z\"/>\n",
              "    </g>\n",
              "</svg>\n",
              "  </button>\n",
              "\n",
              "<style>\n",
              "  .colab-df-quickchart {\n",
              "      --bg-color: #E8F0FE;\n",
              "      --fill-color: #1967D2;\n",
              "      --hover-bg-color: #E2EBFA;\n",
              "      --hover-fill-color: #174EA6;\n",
              "      --disabled-fill-color: #AAA;\n",
              "      --disabled-bg-color: #DDD;\n",
              "  }\n",
              "\n",
              "  [theme=dark] .colab-df-quickchart {\n",
              "      --bg-color: #3B4455;\n",
              "      --fill-color: #D2E3FC;\n",
              "      --hover-bg-color: #434B5C;\n",
              "      --hover-fill-color: #FFFFFF;\n",
              "      --disabled-bg-color: #3B4455;\n",
              "      --disabled-fill-color: #666;\n",
              "  }\n",
              "\n",
              "  .colab-df-quickchart {\n",
              "    background-color: var(--bg-color);\n",
              "    border: none;\n",
              "    border-radius: 50%;\n",
              "    cursor: pointer;\n",
              "    display: none;\n",
              "    fill: var(--fill-color);\n",
              "    height: 32px;\n",
              "    padding: 0;\n",
              "    width: 32px;\n",
              "  }\n",
              "\n",
              "  .colab-df-quickchart:hover {\n",
              "    background-color: var(--hover-bg-color);\n",
              "    box-shadow: 0 1px 2px rgba(60, 64, 67, 0.3), 0 1px 3px 1px rgba(60, 64, 67, 0.15);\n",
              "    fill: var(--button-hover-fill-color);\n",
              "  }\n",
              "\n",
              "  .colab-df-quickchart-complete:disabled,\n",
              "  .colab-df-quickchart-complete:disabled:hover {\n",
              "    background-color: var(--disabled-bg-color);\n",
              "    fill: var(--disabled-fill-color);\n",
              "    box-shadow: none;\n",
              "  }\n",
              "\n",
              "  .colab-df-spinner {\n",
              "    border: 2px solid var(--fill-color);\n",
              "    border-color: transparent;\n",
              "    border-bottom-color: var(--fill-color);\n",
              "    animation:\n",
              "      spin 1s steps(1) infinite;\n",
              "  }\n",
              "\n",
              "  @keyframes spin {\n",
              "    0% {\n",
              "      border-color: transparent;\n",
              "      border-bottom-color: var(--fill-color);\n",
              "      border-left-color: var(--fill-color);\n",
              "    }\n",
              "    20% {\n",
              "      border-color: transparent;\n",
              "      border-left-color: var(--fill-color);\n",
              "      border-top-color: var(--fill-color);\n",
              "    }\n",
              "    30% {\n",
              "      border-color: transparent;\n",
              "      border-left-color: var(--fill-color);\n",
              "      border-top-color: var(--fill-color);\n",
              "      border-right-color: var(--fill-color);\n",
              "    }\n",
              "    40% {\n",
              "      border-color: transparent;\n",
              "      border-right-color: var(--fill-color);\n",
              "      border-top-color: var(--fill-color);\n",
              "    }\n",
              "    60% {\n",
              "      border-color: transparent;\n",
              "      border-right-color: var(--fill-color);\n",
              "    }\n",
              "    80% {\n",
              "      border-color: transparent;\n",
              "      border-right-color: var(--fill-color);\n",
              "      border-bottom-color: var(--fill-color);\n",
              "    }\n",
              "    90% {\n",
              "      border-color: transparent;\n",
              "      border-bottom-color: var(--fill-color);\n",
              "    }\n",
              "  }\n",
              "</style>\n",
              "\n",
              "  <script>\n",
              "    async function quickchart(key) {\n",
              "      const quickchartButtonEl =\n",
              "        document.querySelector('#' + key + ' button');\n",
              "      quickchartButtonEl.disabled = true;  // To prevent multiple clicks.\n",
              "      quickchartButtonEl.classList.add('colab-df-spinner');\n",
              "      try {\n",
              "        const charts = await google.colab.kernel.invokeFunction(\n",
              "            'suggestCharts', [key], {});\n",
              "      } catch (error) {\n",
              "        console.error('Error during call to suggestCharts:', error);\n",
              "      }\n",
              "      quickchartButtonEl.classList.remove('colab-df-spinner');\n",
              "      quickchartButtonEl.classList.add('colab-df-quickchart-complete');\n",
              "    }\n",
              "    (() => {\n",
              "      let quickchartButtonEl =\n",
              "        document.querySelector('#df-7a8090ad-01e9-4909-8b7b-e54228bc5951 button');\n",
              "      quickchartButtonEl.style.display =\n",
              "        google.colab.kernel.accessAllowed ? 'block' : 'none';\n",
              "    })();\n",
              "  </script>\n",
              "</div>\n",
              "    </div>\n",
              "  </div>\n"
            ]
          },
          "metadata": {},
          "execution_count": 25
        }
      ]
    },
    {
      "cell_type": "markdown",
      "source": [
        "In a DataFrame, each observation is identified by an index. You can determine the index of a DataFrame by looking for the bolded values at the beginning of each row when you print the DataFrame. For example, notice how the numbers 0, 1, 2, 3, 4, ... above are bolded, which means that this DataFrame is indexed by integers starting from 0. This is the default index when you read in a data set from disk into pandas, unless you explicitly specify otherwise.\n",
        "\n",
        "Since each row represents one passenger, it might be useful to re-index the rows by the name of the passenger. To do this, we call the .set_index() method of DataFrame, passing in the name of the column we want to use as the index. Notice how name now appears at the very left, and the passengers' names are all bolded. This is how you know that name is the index of this DataFrame.\n",
        "\n"
      ],
      "metadata": {
        "id": "nGkygd5WyrxG"
      }
    },
    {
      "cell_type": "code",
      "source": [
        "titanic.set_index(\"Name\", inplace=True)"
      ],
      "metadata": {
        "id": "kwO78gf31CiE"
      },
      "execution_count": 28,
      "outputs": []
    },
    {
      "cell_type": "markdown",
      "source": [
        "Now that we have set the (row) index of the DataFrame to be the passengers' names, we can use the index to select specific passengers. To do this, we use the .loc selector. The .loc selector takes in a label and returns the row(s) corresponding to that index label.\n",
        "\n",
        "For example, if we wanted to find the data for the father of the Allison family, we would pass in the label \"Allison, Master. Hudson Trevor\" to .loc. Notice the square brackets."
      ],
      "metadata": {
        "id": "jdKPEiowCBC_"
      }
    },
    {
      "cell_type": "code",
      "source": [
        "titanic.loc[\"Allison, Master. Hudson Trevor\"]"
      ],
      "metadata": {
        "colab": {
          "base_uri": "https://localhost:8080/"
        },
        "id": "xcELWOvkCT64",
        "outputId": "45bef721-2301-49db-da0d-f9a18a4d66b5"
      },
      "execution_count": 30,
      "outputs": [
        {
          "output_type": "execute_result",
          "data": {
            "text/plain": [
              "PassengerId        306\n",
              "Survived             1\n",
              "Pclass               1\n",
              "Sex               male\n",
              "Age               0.92\n",
              "SibSp                1\n",
              "Parch                2\n",
              "Ticket          113781\n",
              "Fare            151.55\n",
              "Cabin          C22 C26\n",
              "Embarked             S\n",
              "Name: Allison, Master. Hudson Trevor, dtype: object"
            ]
          },
          "metadata": {},
          "execution_count": 30
        }
      ]
    },
    {
      "cell_type": "markdown",
      "source": [
        "Lets say we only want to look at the age column. We can do that in multiple ways. Suppose we want to select the age column from the DataFrame. There are three ways to do this.\n",
        "\n",
        "Use .loc, specifying both the rows and columns. (Note: The colon : is Python shorthand for \"all\".)"
      ],
      "metadata": {
        "id": "Urly3ESWCXlI"
      }
    },
    {
      "cell_type": "code",
      "source": [
        "titanic.loc[:, \"Age\"]"
      ],
      "metadata": {
        "colab": {
          "base_uri": "https://localhost:8080/"
        },
        "id": "RaKESq41CeWU",
        "outputId": "6ac2dc26-baba-415e-8d80-8fe85e393862"
      },
      "execution_count": 33,
      "outputs": [
        {
          "output_type": "execute_result",
          "data": {
            "text/plain": [
              "Name\n",
              "Braund, Mr. Owen Harris                                22.0\n",
              "Cumings, Mrs. John Bradley (Florence Briggs Thayer)    38.0\n",
              "Heikkinen, Miss. Laina                                 26.0\n",
              "Futrelle, Mrs. Jacques Heath (Lily May Peel)           35.0\n",
              "Allen, Mr. William Henry                               35.0\n",
              "                                                       ... \n",
              "Montvila, Rev. Juozas                                  27.0\n",
              "Graham, Miss. Margaret Edith                           19.0\n",
              "Johnston, Miss. Catherine Helen \"Carrie\"                NaN\n",
              "Behr, Mr. Karl Howell                                  26.0\n",
              "Dooley, Mr. Patrick                                    32.0\n",
              "Name: Age, Length: 891, dtype: float64"
            ]
          },
          "metadata": {},
          "execution_count": 33
        }
      ]
    },
    {
      "cell_type": "code",
      "source": [
        "titanic[\"Age\"]"
      ],
      "metadata": {
        "colab": {
          "base_uri": "https://localhost:8080/"
        },
        "id": "qLBx62GCCiB1",
        "outputId": "9fac13f8-3cba-41f2-ecf6-19658bd792c2"
      },
      "execution_count": 35,
      "outputs": [
        {
          "output_type": "execute_result",
          "data": {
            "text/plain": [
              "Name\n",
              "Braund, Mr. Owen Harris                                22.0\n",
              "Cumings, Mrs. John Bradley (Florence Briggs Thayer)    38.0\n",
              "Heikkinen, Miss. Laina                                 26.0\n",
              "Futrelle, Mrs. Jacques Heath (Lily May Peel)           35.0\n",
              "Allen, Mr. William Henry                               35.0\n",
              "                                                       ... \n",
              "Montvila, Rev. Juozas                                  27.0\n",
              "Graham, Miss. Margaret Edith                           19.0\n",
              "Johnston, Miss. Catherine Helen \"Carrie\"                NaN\n",
              "Behr, Mr. Karl Howell                                  26.0\n",
              "Dooley, Mr. Patrick                                    32.0\n",
              "Name: Age, Length: 891, dtype: float64"
            ]
          },
          "metadata": {},
          "execution_count": 35
        }
      ]
    },
    {
      "cell_type": "code",
      "source": [
        "titanic.Age"
      ],
      "metadata": {
        "colab": {
          "base_uri": "https://localhost:8080/"
        },
        "id": "k4DsFd0RCmZa",
        "outputId": "ae392e60-0b18-4b5c-e239-b1dec374e623"
      },
      "execution_count": 36,
      "outputs": [
        {
          "output_type": "execute_result",
          "data": {
            "text/plain": [
              "Name\n",
              "Braund, Mr. Owen Harris                                22.0\n",
              "Cumings, Mrs. John Bradley (Florence Briggs Thayer)    38.0\n",
              "Heikkinen, Miss. Laina                                 26.0\n",
              "Futrelle, Mrs. Jacques Heath (Lily May Peel)           35.0\n",
              "Allen, Mr. William Henry                               35.0\n",
              "                                                       ... \n",
              "Montvila, Rev. Juozas                                  27.0\n",
              "Graham, Miss. Margaret Edith                           19.0\n",
              "Johnston, Miss. Catherine Helen \"Carrie\"                NaN\n",
              "Behr, Mr. Karl Howell                                  26.0\n",
              "Dooley, Mr. Patrick                                    32.0\n",
              "Name: Age, Length: 891, dtype: float64"
            ]
          },
          "metadata": {},
          "execution_count": 36
        }
      ]
    },
    {
      "cell_type": "markdown",
      "source": [
        "There is a fundamental difference between variables like age and fare, which can be measured on a numeric scale, and variables like sex and home.dest, which cannot.\n",
        "\n",
        "Variables that can be measured on a numeric scale are called quantitative variables. Just because a variable happens to contain numbers does not necessarily make it \"quantitative\". For example, consider the variable survived in the Titanic data set. Each passenger either survived or didn't. This data set happens to use 1 for \"survived\" and 0 for \"died\", but these numbers do not reflect an underlying numeric scale.\n",
        "\n",
        "Variables that are not quantitative but take on a limited set of values are called categorical variables. For example, the variable sex takes on one of two possible values (\"female\" or \"male\"), so it is a categorical variable. So is the variable home.dest, which takes on a larger, but still limited, set of values. We call each possible value of a categorical variable a \"category\". Although categories are usually non-numeric (as in the case of sex and home.dest), they are sometimes numeric. For example, the variable survived in the Titanic data set is a categorical variable with two categories (1 if the passenger survived, 0 if they didn't), even though those values are numbers. With a categorical variable, one common analysis question is, \"How many observations are there in each category?\".\n",
        "\n",
        "Some variables do not fit neatly into either category. For example, the variable name in the Titanic data set is obviously not quantitative, but it is not categorical either because it does not take on a limited set of values. Generally speaking, every passenger will have a different name (the two James Kellys notwithstanding), so it does not make sense to analyze the frequencies of different names, as one might do with a categorical variable. We will group variables like name, that are neither quantitative nor categorical, into an \"other\" category.\n",
        "\n",
        "Every variable can be classified into one of these three types: quantitative, categorical, or other. The type of the variable often dictates the kind of analysis we do and the kind of visualizations we make, as we will see later in this chapter.\n",
        "\n",
        "pandas tries to infer the type of each variable automatically. If every value in a column (except for missing values) can be cast to a number, then pandas will treat that variable as quantitative. Otherwise, the variable is treated as categorical. To see the type that Pandas inferred for a variable, simply select that variable using the methods above and look for its dtype. A dtype of float64 or int64 indicates that the variable is quantitative. For example, the age variable above had a dtype of float64, so it is quantitative. On the other hand, if we look at the sex variable it is of type object.\n",
        "\n",
        "\n",
        "To get a quick summary of a variable, we can use the .describe() function. Let's see what happens when we call .describe() on a quantitative variable, like age.\n",
        "\n"
      ],
      "metadata": {
        "id": "sF151ROKCp3A"
      }
    },
    {
      "cell_type": "code",
      "source": [
        "titanic.Age.describe()"
      ],
      "metadata": {
        "colab": {
          "base_uri": "https://localhost:8080/"
        },
        "id": "ACqoJ0MfEKqf",
        "outputId": "d2954faa-56b4-4402-b476-74e722abbbd4"
      },
      "execution_count": 39,
      "outputs": [
        {
          "output_type": "execute_result",
          "data": {
            "text/plain": [
              "count    714.000000\n",
              "mean      29.699118\n",
              "std       14.526497\n",
              "min        0.420000\n",
              "25%       20.125000\n",
              "50%       28.000000\n",
              "75%       38.000000\n",
              "max       80.000000\n",
              "Name: Age, dtype: float64"
            ]
          },
          "metadata": {},
          "execution_count": 39
        }
      ]
    },
    {
      "cell_type": "markdown",
      "source": [
        "# Summary\n",
        "\n",
        "* Tabular data is stored in a data structure called a DataFrame.\n",
        "* Rows represent observations; columns represent variables.\n",
        "* Single rows and columns are stored in a data structure called a Series.\n",
        "* The row index should be a set of labels that uniquely identify observations.\n",
        "* To select rows by label, we use .loc[]. To select rows by (0-based) position, we use .iloc[].\n",
        "* To select columns, we can use .loc notation (specifying both the rows and columns we want, separated by a comma), key access, or attribute access.\n",
        "* Variables can be quantitative, categorical, or other.\n",
        "* Pandas will try to infer the type, and you can check the type that Pandas inferred by looking at the dtype."
      ],
      "metadata": {
        "id": "G_-irAxDCt_m"
      }
    },
    {
      "cell_type": "markdown",
      "source": [
        "# Homework\n",
        "\n",
        "* Given the information provided here, add a section that explains how to find all the entries that satisfy a logical comparisson. For example, how can I get the list of people who survived the destruction of the Titanic. You might need to consult other sources, do add a citation for where you got your information.\n",
        "* After completing the prior task. Write a line of code that returns the summary of the Fare for all the passengers who survived the Titanic and one for all the passengers who didn't survive.\n",
        "* Write a short paragraph talking about what you conclude from your findings.\n"
      ],
      "metadata": {
        "id": "7p5gu6IeFoO5"
      }
    },
    {
      "cell_type": "code",
      "source": [],
      "metadata": {
        "id": "sO_-b-5nIfTl"
      },
      "execution_count": null,
      "outputs": []
    }
  ]
}