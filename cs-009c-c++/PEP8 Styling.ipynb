{
  "cells": [
    {
      "cell_type": "markdown",
      "metadata": {
        "id": "EPa0qXq8IoGV"
      },
      "source": [
        "## PEP 8 Styling"
      ]
    },
    {
      "cell_type": "markdown",
      "metadata": {
        "id": "28hr6JDdIoGZ"
      },
      "source": [
        "A useful piece of code is like a very good cookie. It will taste good and everyone will want to know the recipe.\n",
        "Python is very flexible in regards of how you can do things. A simple example is how you can traverse through a list using a ***for*** loop, a comprehension, a lambda function, etc. The downside of this flexibility is that it allows for sloppiness from the developer, which can turn into incomprehensible code.\n",
        "In order to maximize reuse and interpretability of code, there is a style guide or coding convention included in the official Python documentation called PEP 8. You can find the official documentation at the following link, but this lesson will be an overview of PEP 8 and how to check your code for it.\n",
        "https://www.python.org/dev/peps/pep-0008/\n",
        "\n",
        "Note: In order to do PEP8 checking on Jupyter, we'll be using pycodestyle for which you need to run the following commands (use the code cell after this description for it):\n",
        "\n",
        "pip install pycodestyle\n",
        "\n",
        "pip install pycodestyle_magic\n",
        "\n",
        "There are several tools to do command line checking including Python's official checker. If you are running code from a command line, the official usage is:\n",
        "pep8 --show-source --show-pep8 FILE.py\n",
        "\n",
        "This will show any styling issues with your code."
      ]
    },
    {
      "cell_type": "markdown",
      "metadata": {
        "id": "-WXYkFLiIoGa"
      },
      "source": [
        "## Checking your code for styling"
      ]
    },
    {
      "cell_type": "markdown",
      "metadata": {
        "id": "NsH2MQcAIoGb"
      },
      "source": [
        "First, we need to load the pycodestyle module"
      ]
    },
    {
      "cell_type": "code",
      "execution_count": 6,
      "metadata": {
        "colab": {
          "base_uri": "https://localhost:8080/"
        },
        "id": "CUC-KdxyIoGb",
        "outputId": "9d6f4215-f735-47ef-e3bd-9b6b7f9e3a33"
      },
      "outputs": [
        {
          "output_type": "stream",
          "name": "stdout",
          "text": [
            "Requirement already satisfied: pycodestyle in /usr/local/lib/python3.10/dist-packages (2.11.0)\n",
            "Requirement already satisfied: pycodestyle_magic in /usr/local/lib/python3.10/dist-packages (0.5)\n",
            "Collecting flake8\n",
            "  Downloading flake8-6.1.0-py2.py3-none-any.whl (58 kB)\n",
            "\u001b[2K     \u001b[90m━━━━━━━━━━━━━━━━━━━━━━━━━━━━━━━━━━━━━━━━\u001b[0m \u001b[32m58.3/58.3 kB\u001b[0m \u001b[31m1.5 MB/s\u001b[0m eta \u001b[36m0:00:00\u001b[0m\n",
            "\u001b[?25hCollecting mccabe<0.8.0,>=0.7.0 (from flake8)\n",
            "  Downloading mccabe-0.7.0-py2.py3-none-any.whl (7.3 kB)\n",
            "Requirement already satisfied: pycodestyle<2.12.0,>=2.11.0 in /usr/local/lib/python3.10/dist-packages (from flake8) (2.11.0)\n",
            "Collecting pyflakes<3.2.0,>=3.1.0 (from flake8)\n",
            "  Downloading pyflakes-3.1.0-py2.py3-none-any.whl (62 kB)\n",
            "\u001b[2K     \u001b[90m━━━━━━━━━━━━━━━━━━━━━━━━━━━━━━━━━━━━━━━━\u001b[0m \u001b[32m62.6/62.6 kB\u001b[0m \u001b[31m4.9 MB/s\u001b[0m eta \u001b[36m0:00:00\u001b[0m\n",
            "\u001b[?25hInstalling collected packages: pyflakes, mccabe, flake8\n",
            "Successfully installed flake8-6.1.0 mccabe-0.7.0 pyflakes-3.1.0\n"
          ]
        }
      ],
      "source": [
        "!pip install pycodestyle\n",
        "!pip install pycodestyle_magic\n",
        "!pip install flake8"
      ]
    },
    {
      "cell_type": "code",
      "source": [
        "%load_ext pycodestyle_magic"
      ],
      "metadata": {
        "id": "q1yVtybVI-Hk"
      },
      "execution_count": 7,
      "outputs": []
    },
    {
      "cell_type": "markdown",
      "metadata": {
        "id": "HjAcijeRIoGc"
      },
      "source": [
        "Every block you want to check for styling, you need to include the %%pycodestyle *magic* function. The code will not be executed, just checked for styling."
      ]
    },
    {
      "cell_type": "code",
      "execution_count": 10,
      "metadata": {
        "colab": {
          "base_uri": "https://localhost:8080/"
        },
        "id": "Fg4nkI5AIoGd",
        "outputId": "047359c8-87a7-4e8e-8849-3d2a90310147"
      },
      "outputs": [
        {
          "output_type": "stream",
          "name": "stderr",
          "text": [
            "INFO:pycodestyle:2:2: E225 missing whitespace around operator\n",
            "INFO:pycodestyle:4:2: E221 multiple spaces before operator\n",
            "INFO:pycodestyle:4:5: E222 multiple spaces after operator\n",
            "INFO:pycodestyle:5:1: W391 blank line at end of file\n"
          ]
        }
      ],
      "source": [
        "%%pycodestyle\n",
        "a=1\n",
        "b = 2\n",
        "c  =  3"
      ]
    },
    {
      "cell_type": "markdown",
      "metadata": {
        "id": "f3uSrAkZIoGd"
      },
      "source": [
        "## The Zen of Python"
      ]
    },
    {
      "cell_type": "markdown",
      "metadata": {
        "id": "vc6ntiiMIoGe"
      },
      "source": [
        "Why are we talking about styling? Not only does it improve readibility but it is good to start working on the way you approach coding. Bad coding practices are hard to break.\n",
        "\n",
        "Each programming language has styling practices that are unique for it. Python's styling and design are guided by a set of principles described in the Zen of Python:\n",
        "\n",
        "* Beautiful is better than ugly.\n",
        "\n",
        "* Explicit is better than implicit.\n",
        "\n",
        "* Simple is better than complex.\n",
        "\n",
        "* Complex is better than complicated.\n",
        "\n",
        "* Flat is better than nested.\n",
        "\n",
        "* Sparse is better than dense.\n",
        "\n",
        "* Readability counts.\n",
        "\n",
        "* Special cases aren't special enough to break the rules.\n",
        "\n",
        "* Although practicality beats purity.\n",
        "\n",
        "* Errors should never pass silently.\n",
        "\n",
        "* Unless explicitly silenced.\n",
        "\n",
        "* In the face of ambiguity, refuse the temptation to guess.\n",
        "\n",
        "* There should be one-- and preferably only one --obvious way to do it.\n",
        "\n",
        "* Although that way may not be obvious at first unless you're Dutch.\n",
        "\n",
        "* Now is better than never.\n",
        "\n",
        "* Although never is often better than *right* now.\n",
        "\n",
        "* If the implementation is hard to explain, it's a bad idea.\n",
        "\n",
        "* If the implementation is easy to explain, it may be a good idea.\n",
        "\n",
        "* Namespaces are one honking great idea -- let's do more of those!\n",
        "\n",
        "\n",
        "I don't expect you to understand how the whole Zen applies to programming at this point, but this should give you an idea on what drives some of the design decisions behind the language.\n",
        "\n",
        "The following sections will show you examples of violations to the PEP8 styling and use pycodestyle to detect them."
      ]
    },
    {
      "cell_type": "markdown",
      "metadata": {
        "id": "eBs99j1_IoGe"
      },
      "source": [
        "## Indentation"
      ]
    },
    {
      "cell_type": "markdown",
      "metadata": {
        "id": "vMgscd9VIoGf"
      },
      "source": [
        "Although most IDEs will indent automatically, indentation should be done with 4 spaces instead of a tab. This will keep the code clean across different platforms as a tab is interpreted differently depending on the editor and the operating system"
      ]
    },
    {
      "cell_type": "code",
      "execution_count": 9,
      "metadata": {
        "colab": {
          "base_uri": "https://localhost:8080/"
        },
        "id": "sfxJZ3EVIoGf",
        "outputId": "4b900a4c-c99a-4306-c4d0-1fa6c1d8f49e"
      },
      "outputs": [
        {
          "output_type": "stream",
          "name": "stderr",
          "text": [
            "INFO:pycodestyle:6:10: E111 indentation is not a multiple of 4\n",
            "INFO:pycodestyle:6:10: E117 over-indented\n",
            "INFO:pycodestyle:7:1: W391 blank line at end of file\n"
          ]
        }
      ],
      "source": [
        "%%pycodestyle\n",
        "mother = 1\n",
        "if mother < 1:\n",
        "    print('no mama')  # 4 spaces\n",
        "else:\n",
        "         print('mama')  # tab"
      ]
    },
    {
      "cell_type": "markdown",
      "metadata": {
        "id": "g1YOL7iWIoGg"
      },
      "source": [
        "## Maximum Line Length"
      ]
    },
    {
      "cell_type": "markdown",
      "metadata": {
        "id": "4reunqEjIoGg"
      },
      "source": [
        "Yes you can do everything in one line. A super complicated generator inside a comprehension. But it gets complicated to read also. Keep your line length less than 79 charachters. This is so you don't have to scroll horizontally to read the instruction and you can compare files side by side. This also applies for comments."
      ]
    },
    {
      "cell_type": "code",
      "execution_count": 11,
      "metadata": {
        "colab": {
          "base_uri": "https://localhost:8080/"
        },
        "id": "-SwVxvKZIoGg",
        "outputId": "0d619aea-ee73-492d-d3ba-34ca5205f534"
      },
      "outputs": [
        {
          "output_type": "stream",
          "name": "stderr",
          "text": [
            "INFO:pycodestyle:2:80: E501 line too long (142 > 79 characters)\n",
            "INFO:pycodestyle:3:1: W391 blank line at end of file\n"
          ]
        }
      ],
      "source": [
        "%%pycodestyle\n",
        "# 1 2 3 4 5 6 7 8 9 10 11 12 13 14 15 16 17 18 19 20 21 22 23 24 25 26 27 28 29 30 31 32 33 34 35 36 37 38 39 40 41 42 43 44 45 46 47 48 49 50"
      ]
    },
    {
      "cell_type": "markdown",
      "metadata": {
        "id": "MtpK4vr3IoGh"
      },
      "source": [
        "Also, when using multiple lines, avoid starting with an operator"
      ]
    },
    {
      "cell_type": "code",
      "execution_count": 12,
      "metadata": {
        "colab": {
          "base_uri": "https://localhost:8080/"
        },
        "id": "Jql-e7zTIoGh",
        "outputId": "0cf6e0a7-aa15-4e2f-c7b2-ed28ccc7676a"
      },
      "outputs": [
        {
          "output_type": "stream",
          "name": "stderr",
          "text": [
            "INFO:pycodestyle:5:7: E128 continuation line under-indented for visual indent\n",
            "INFO:pycodestyle:5:8: E222 multiple spaces after operator\n",
            "INFO:pycodestyle:6:1: W391 blank line at end of file\n"
          ]
        }
      ],
      "source": [
        "%%pycodestyle\n",
        "total = (A +\n",
        "         B)\n",
        "res = (A\n",
        "      +  B)"
      ]
    },
    {
      "cell_type": "markdown",
      "metadata": {
        "id": "CV6G-y8qIoGh"
      },
      "source": [
        "## Blank Lines"
      ]
    },
    {
      "cell_type": "markdown",
      "metadata": {
        "id": "YUkvffjBIoGh"
      },
      "source": [
        "Top level functions should be separated by two lines and classes should be separated by one"
      ]
    },
    {
      "cell_type": "code",
      "execution_count": 13,
      "metadata": {
        "colab": {
          "base_uri": "https://localhost:8080/"
        },
        "id": "mGuZj2tNIoGh",
        "outputId": "23a30300-360c-468b-990a-00add86ee209"
      },
      "outputs": [
        {
          "output_type": "stream",
          "name": "stderr",
          "text": [
            "INFO:pycodestyle:9:5: E301 expected 1 blank line, found 0\n",
            "INFO:pycodestyle:10:31: E231 missing whitespace after ','\n",
            "INFO:pycodestyle:11:25: E225 missing whitespace around operator\n",
            "INFO:pycodestyle:15:1: E302 expected 2 blank lines, found 1\n",
            "INFO:pycodestyle:30:1: W391 blank line at end of file\n"
          ]
        }
      ],
      "source": [
        "%%pycodestyle\n",
        "class SwapTestSuite(unittest.TestCase):\n",
        "    \"\"\"\n",
        "        Swap Operation Test Case\n",
        "    \"\"\"\n",
        "    def setUp(self):\n",
        "        self.a = 1\n",
        "        self.b = 2\n",
        "    def test_swap_operations(self):\n",
        "        instance = Swap(self.a,self.b)\n",
        "        value1, value2 =instance.get_swap_values()\n",
        "        self.assertEqual(self.a, value2)\n",
        "        self.assertEqual(self.b, value1)\n",
        "\n",
        "class OddOrEvenTestSuite(unittest.TestCase):\n",
        "    \"\"\"\n",
        "        This is the Odd or Even Test case Suite\n",
        "    \"\"\"\n",
        "    def setUp(self):\n",
        "        self.value1 = 1\n",
        "        self.value2 = 2\n",
        "\n",
        "    def test_odd_even_operations(self):\n",
        "        instance1 = OddOrEven(self.value1)\n",
        "        instance2 = OddOrEven(self.value2)\n",
        "        message1 = instance1.get_odd_or_even()\n",
        "        message2 = instance2.get_odd_or_even()\n",
        "        self.assertEqual(message1, 'Odd')\n",
        "        self.assertEqual(message2, 'Even')"
      ]
    },
    {
      "cell_type": "markdown",
      "metadata": {
        "id": "g7c3X1lYIoGi"
      },
      "source": [
        "## Imports\n",
        "\n",
        "State each library import in one line"
      ]
    },
    {
      "cell_type": "code",
      "execution_count": 14,
      "metadata": {
        "colab": {
          "base_uri": "https://localhost:8080/"
        },
        "id": "jlzF3c5aIoGi",
        "outputId": "3a78ece4-9a39-4916-bad5-b9e34c4f2612"
      },
      "outputs": [
        {
          "output_type": "stream",
          "name": "stderr",
          "text": [
            "INFO:pycodestyle:3:11: E401 multiple imports on one line\n",
            "INFO:pycodestyle:4:1: W391 blank line at end of file\n"
          ]
        }
      ],
      "source": [
        "%%pycodestyle\n",
        "import one\n",
        "import two, three"
      ]
    },
    {
      "cell_type": "markdown",
      "metadata": {
        "id": "gdc0q_P_IoGi"
      },
      "source": [
        "## Naming conventions\n",
        "\n",
        "Depending on the type of variable there is a convention for lower or uppercase words. Here is a table for that convention:\n",
        "\n",
        "    Module            lowercase\n",
        "    Class             CapWords\n",
        "    Functions         lowercase\n",
        "    Methods\t       lowercase\n",
        "    Type variables\tCapWords\n",
        "    Constants\t     UPPERCASE\n",
        "    Package\t       lowercase"
      ]
    },
    {
      "cell_type": "markdown",
      "metadata": {
        "id": "TlHTtkY8IoGi"
      },
      "source": [
        "Action items: Complete this notebook!\n",
        "\n",
        "\n",
        "\n",
        "*   Take an old piece of code you wrote (maybe from 9A) and bring it to this notebook runnyng pycodestyle on it. Explain what violations were found. Then fix your code and run it until no violations are found.\n",
        "*   Find two more PEP8 principles that we didn't mention. Include a short description of it and write code that violates that principle along with its pycodestyle report.\n",
        "\n"
      ]
    },
    {
      "cell_type": "code",
      "execution_count": null,
      "metadata": {
        "id": "fdMK371zIoGi"
      },
      "outputs": [],
      "source": []
    }
  ],
  "metadata": {
    "kernelspec": {
      "display_name": "Python 3",
      "language": "python",
      "name": "python3"
    },
    "language_info": {
      "codemirror_mode": {
        "name": "ipython",
        "version": 3
      },
      "file_extension": ".py",
      "mimetype": "text/x-python",
      "name": "python",
      "nbconvert_exporter": "python",
      "pygments_lexer": "ipython3",
      "version": "3.6.3"
    },
    "colab": {
      "provenance": [],
      "toc_visible": true
    }
  },
  "nbformat": 4,
  "nbformat_minor": 0
}